{
 "cells": [
  {
   "cell_type": "code",
   "execution_count": 1,
   "metadata": {},
   "outputs": [],
   "source": [
    "import numpy as np\n",
    "import pandas as pd\n",
    "import random\n",
    "import os"
   ]
  },
  {
   "cell_type": "code",
   "execution_count": 2,
   "metadata": {},
   "outputs": [],
   "source": [
    "# base_path = \"/Users/schmuck/Library/CloudStorage/OneDrive-IndianaUniversity/PhD/DATASETS/real_data/Data_without_labels\"\n",
    "# transf_path = \"/Users/schmuck/Library/CloudStorage/OneDrive-IndianaUniversity/PhD/DATASETS/real_data/P_adic_transformed_data/transformed_data\"\n",
    "# out_path = \"/Users/schmuck/Library/CloudStorage/OneDrive-IndianaUniversity/PhD/DATASETS/real_data/Data_without_labels/\"\n",
    "\n",
    "base_path = \"/u/parishar/nobackup/DATASETS/exp_data/raw_data/\"\n",
    "out_path = \"/u/parishar/nobackup/DATASETS/exp_data/raw_data/\"\n",
    "\n",
    "# file_list = [\"pollen_raw.csv\", \"darmanis_raw.csv\", \"usoskin_raw.csv\", \"mouse_pan.csv\", \n",
    "#             \"Muraro_raw.csv\", \"QSDiaphragm_raw.csv\"]\n",
    "\n",
    "# data_list = [\"Pollen\", \"Darmanis\", \"Usoskin\", \"Mouse_pan\", \n",
    "#              \"Muraro\", \"QSDiaphragm\"]\n",
    "\n",
    "# label_list = [\"labels_pollen.csv\", \"labels_darmanis.csv\", \"labels_usoskin.csv\", \n",
    "#               \"labels_mouse_pan.csv\", \"labels_Muraro.csv\", \"labels_QSDiaphragm.csv\"]\n",
    "\n",
    "\n",
    "file_list = [\"pollen_raw.csv\", \"darmanis_raw.csv\", \"usoskin_raw.csv\", \"mouse_pan.csv\", \n",
    "            \"Muraro_raw.csv\", \"QSLimb_raw.csv\", \"QSTrachea_raw.csv\", \"QSLung_raw.csv\", \"QSDiaphragm_raw.csv\", \n",
    "             \"Q10XSpleen_raw.csv\"]\n",
    "\n",
    "data_list = [\"Pollen\", \"Darmanis\", \"Usoskin\", \"Mouse_pan\", \"Muraro\", \"QSLimb\", \"QSTrachea\", \"QSLung\", \n",
    "             \"QSDiaphragm\", \"Q10XSpleen\"]\n",
    "\n",
    "label_list = [\"labels_pollen.csv\", \"labels_darmanis.csv\", \"labels_usoskin.csv\", \n",
    "              \"labels_mouse_pan.csv\", \"labels_Muraro.csv\", \"labels_QSLimb.csv\", \"labels_QSTrachea.csv\", \n",
    "              \"labels_QSLung.csv\", \"labels_QSDiaphragm.csv\",\n",
    "              \"labels_Q10XSpleen.csv\"]\n"
   ]
  },
  {
   "cell_type": "code",
   "execution_count": 3,
   "metadata": {},
   "outputs": [],
   "source": [
    "def load_data(file_name, label_name):\n",
    "    \n",
    "    file_path = os.path.join(base_path, file_name)\n",
    "    data = pd.read_csv(file_path, sep=\",\", header=None)\n",
    "    labels = pd.read_csv(os.path.join(base_path, label_name), header=None)\n",
    "\n",
    "    return data, labels\n",
    "\n",
    "\n",
    "data_num_clusters = {\"Usoskin\": 4, \"Pollen\": 11, \n",
    "             \"Mouse_pan\": 13, \"Darmanis\": 8, \"Muraro\": 9,\n",
    "             \"QSLimb\": 6, \"QSLung\": 11, \"Q10XSpleen\": 5, \n",
    "             \"QSTrachea\": 4, \"QSDiaphragm\": 5}\n",
    "\n",
    "\n",
    "def pre_process_data(data, labels):\n",
    "\n",
    "    data = np.array(data)\n",
    "\n",
    "    print(\"Data Shape: \", data.shape)\n",
    "\n",
    "    # Remove genes expressed in less than 1% of cell\n",
    "    gene_expr_sum = np.sum(data, axis=0)\n",
    "    limit = np.ceil(0.01 * data.shape[0])\n",
    "    wch_genes = np.where(gene_expr_sum < limit)[0]\n",
    "    \n",
    "    if len(wch_genes) > 0:\n",
    "        print(\"Genes to be removed:\", len(wch_genes))\n",
    "        data = np.delete(data, wch_genes, 1)\n",
    "\n",
    "    rsum = np.sum(data, 1)\n",
    "    wch_cells = np.where(rsum < 100)[0]\n",
    "    \n",
    "\n",
    "    if len(wch_cells) > 0:\n",
    "        print(\"Cell to be removed: \", len(wch_cells))\n",
    "        data = np.delete(data, wch_cells, 0)\n",
    "        labels = np.delete(labels, wch_cells, 0)\n",
    "\n",
    "\n",
    "    # Library size normalization\n",
    "    data = (data/np.sum(data, 1)[:, None]) * np.median(np.sum(data, 1))\n",
    "    labels = np.array(labels).reshape(data.shape[0],)\n",
    "    data = pd.DataFrame(data)\n",
    "\n",
    "    print(\"Data Shape: \", data.shape, len(labels))\n",
    "    \n",
    "    return data, labels"
   ]
  },
  {
   "cell_type": "code",
   "execution_count": 4,
   "metadata": {},
   "outputs": [
    {
     "name": "stdout",
     "output_type": "stream",
     "text": [
      "Processing:  Pollen\n",
      "Data Shape:  (299, 21468)\n",
      "Genes to be removed: 1516\n",
      "Data Shape:  (299, 19952) 299\n",
      "Processing:  Darmanis\n"
     ]
    },
    {
     "name": "stderr",
     "output_type": "stream",
     "text": [
      "/tmp/ipykernel_2191089/776362768.py:37: DeprecationWarning: Seeding based on hashing is deprecated\n",
      "since Python 3.9 and will be removed in a subsequent version. The only \n",
      "supported seed types are: None, int, float, str, bytes, and bytearray.\n",
      "  random.seed(seeds[i, rep])\n"
     ]
    },
    {
     "name": "stdout",
     "output_type": "stream",
     "text": [
      "Data Shape:  (420, 21516)\n",
      "Genes to be removed: 2094\n",
      "Data Shape:  (420, 19422) 420\n",
      "Processing:  Usoskin\n"
     ]
    },
    {
     "name": "stderr",
     "output_type": "stream",
     "text": [
      "/tmp/ipykernel_2191089/776362768.py:37: DeprecationWarning: Seeding based on hashing is deprecated\n",
      "since Python 3.9 and will be removed in a subsequent version. The only \n",
      "supported seed types are: None, int, float, str, bytes, and bytearray.\n",
      "  random.seed(seeds[i, rep])\n"
     ]
    },
    {
     "name": "stdout",
     "output_type": "stream",
     "text": [
      "Data Shape:  (622, 19532)\n",
      "Genes to be removed: 1509\n",
      "Data Shape:  (622, 18023) 622\n",
      "Processing:  Mouse_pan\n"
     ]
    },
    {
     "name": "stderr",
     "output_type": "stream",
     "text": [
      "/tmp/ipykernel_2191089/776362768.py:37: DeprecationWarning: Seeding based on hashing is deprecated\n",
      "since Python 3.9 and will be removed in a subsequent version. The only \n",
      "supported seed types are: None, int, float, str, bytes, and bytearray.\n",
      "  random.seed(seeds[i, rep])\n"
     ]
    },
    {
     "name": "stdout",
     "output_type": "stream",
     "text": [
      "Data Shape:  (1884, 14878)\n",
      "Genes to be removed: 2978\n",
      "Data Shape:  (1884, 11900) 1884\n",
      "Processing:  Muraro\n"
     ]
    },
    {
     "name": "stderr",
     "output_type": "stream",
     "text": [
      "/tmp/ipykernel_2191089/776362768.py:37: DeprecationWarning: Seeding based on hashing is deprecated\n",
      "since Python 3.9 and will be removed in a subsequent version. The only \n",
      "supported seed types are: None, int, float, str, bytes, and bytearray.\n",
      "  random.seed(seeds[i, rep])\n"
     ]
    },
    {
     "name": "stdout",
     "output_type": "stream",
     "text": [
      "Data Shape:  (2122, 19046)\n",
      "Genes to be removed: 3723\n",
      "Data Shape:  (2122, 15323) 2122\n",
      "Processing:  QSLimb\n"
     ]
    },
    {
     "name": "stderr",
     "output_type": "stream",
     "text": [
      "/tmp/ipykernel_2191089/776362768.py:37: DeprecationWarning: Seeding based on hashing is deprecated\n",
      "since Python 3.9 and will be removed in a subsequent version. The only \n",
      "supported seed types are: None, int, float, str, bytes, and bytearray.\n",
      "  random.seed(seeds[i, rep])\n"
     ]
    },
    {
     "name": "stdout",
     "output_type": "stream",
     "text": [
      "Data Shape:  (1090, 23341)\n",
      "Genes to be removed: 6665\n",
      "Data Shape:  (1090, 16676) 1090\n",
      "Processing:  QSTrachea\n"
     ]
    },
    {
     "name": "stderr",
     "output_type": "stream",
     "text": [
      "/tmp/ipykernel_2191089/776362768.py:37: DeprecationWarning: Seeding based on hashing is deprecated\n",
      "since Python 3.9 and will be removed in a subsequent version. The only \n",
      "supported seed types are: None, int, float, str, bytes, and bytearray.\n",
      "  random.seed(seeds[i, rep])\n"
     ]
    },
    {
     "name": "stdout",
     "output_type": "stream",
     "text": [
      "Data Shape:  (1350, 23341)\n",
      "Genes to be removed: 4944\n",
      "Data Shape:  (1350, 18397) 1350\n",
      "Processing:  QSLung\n"
     ]
    },
    {
     "name": "stderr",
     "output_type": "stream",
     "text": [
      "/tmp/ipykernel_2191089/776362768.py:37: DeprecationWarning: Seeding based on hashing is deprecated\n",
      "since Python 3.9 and will be removed in a subsequent version. The only \n",
      "supported seed types are: None, int, float, str, bytes, and bytearray.\n",
      "  random.seed(seeds[i, rep])\n"
     ]
    },
    {
     "name": "stdout",
     "output_type": "stream",
     "text": [
      "Data Shape:  (1676, 23341)\n",
      "Genes to be removed: 6077\n",
      "Data Shape:  (1676, 17264) 1676\n",
      "Processing:  QSDiaphragm\n"
     ]
    },
    {
     "name": "stderr",
     "output_type": "stream",
     "text": [
      "/tmp/ipykernel_2191089/776362768.py:37: DeprecationWarning: Seeding based on hashing is deprecated\n",
      "since Python 3.9 and will be removed in a subsequent version. The only \n",
      "supported seed types are: None, int, float, str, bytes, and bytearray.\n",
      "  random.seed(seeds[i, rep])\n"
     ]
    },
    {
     "name": "stdout",
     "output_type": "stream",
     "text": [
      "Data Shape:  (870, 23341)\n",
      "Genes to be removed: 7528\n",
      "Data Shape:  (870, 15813) 870\n",
      "Processing:  Q10XSpleen\n"
     ]
    },
    {
     "name": "stderr",
     "output_type": "stream",
     "text": [
      "/tmp/ipykernel_2191089/776362768.py:37: DeprecationWarning: Seeding based on hashing is deprecated\n",
      "since Python 3.9 and will be removed in a subsequent version. The only \n",
      "supported seed types are: None, int, float, str, bytes, and bytearray.\n",
      "  random.seed(seeds[i, rep])\n"
     ]
    },
    {
     "name": "stdout",
     "output_type": "stream",
     "text": [
      "Data Shape:  (9552, 23341)\n",
      "Genes to be removed: 13626\n",
      "Data Shape:  (9552, 9715) 9552\n"
     ]
    },
    {
     "name": "stderr",
     "output_type": "stream",
     "text": [
      "/tmp/ipykernel_2191089/776362768.py:37: DeprecationWarning: Seeding based on hashing is deprecated\n",
      "since Python 3.9 and will be removed in a subsequent version. The only \n",
      "supported seed types are: None, int, float, str, bytes, and bytearray.\n",
      "  random.seed(seeds[i, rep])\n"
     ]
    }
   ],
   "source": [
    "num_rep = 20\n",
    "n_nei = 5\n",
    "\n",
    "# Generate seeds \n",
    "np.random.seed(9)\n",
    "seeds = np.random.choice(2000, 200, replace=False).reshape(10, 20)\n",
    "\n",
    "# Output pandas data frame\n",
    "all_results = pd.DataFrame(columns=[\"Data\", \"Run\", \"Indices\"])\n",
    "\n",
    "temp_indices = []\n",
    "temp_data = []\n",
    "temp_run = []\n",
    "\n",
    "for i in range(len(file_list)):\n",
    "\n",
    "    print(\"Processing: \", data_list[i])\n",
    "\n",
    "    file_name = file_list[i]\n",
    "    label_name = label_list[i]\n",
    "\n",
    "    # Load\n",
    "    data, labels = load_data(file_name, label_name)\n",
    "\n",
    "    # Preprocess\n",
    "    data, labels = pre_process_data(data, labels)\n",
    "\n",
    "    # Num clusters\n",
    "    num_clusters = data_num_clusters[data_list[i]]\n",
    "\n",
    "    \n",
    "    for rep in range(num_rep):\n",
    "        \n",
    "        temp_data.append(data_list[i])\n",
    "        temp_run.append(rep)\n",
    "        \n",
    "        random.seed(seeds[i, rep])\n",
    "        temp_indices.append(random.sample(range(data.shape[0]), num_clusters))\n",
    "\n",
    "        # temp = pd.DataFrame(list(zip(temp_data, temp_run, ind)), columns=[\"Data\", \"Run\", \"Indices\"])\n",
    "        # all_results = pd.concat([all_results, temp], ignore_index=True, sort=False)"
   ]
  },
  {
   "cell_type": "code",
   "execution_count": 5,
   "metadata": {},
   "outputs": [],
   "source": [
    "with open(\"random_centroid_indices.csv\", \"w\") as myFile:\n",
    "    \n",
    "    myFile.write(\"Data\" + \",\" + \"Run\" + \",\" + \"Indices\" + \"\\n\")\n",
    "    \n",
    "    for i in range(len(temp_data)):\n",
    "        \n",
    "        ind = \"\"\n",
    "        \n",
    "        for j in range(len(temp_indices[i])):\n",
    "            \n",
    "            if j < len(temp_indices[i])-1:\n",
    "                ind += str(temp_indices[i][j]) + \"+\"  \n",
    "            else:\n",
    "                ind += str(temp_indices[i][j])\n",
    "        \n",
    "        # print(temp_data[i] + \",\" + str(temp_run[i]) + \",\" + ind)\n",
    "        \n",
    "        if i < len(temp_data)-1:\n",
    "            myFile.write(temp_data[i] + \",\" + str(temp_run[i]) + \",\" + ind + \"\\n\")\n",
    "        else:\n",
    "            myFile.write(temp_data[i] + \",\" + str(temp_run[i]) + \",\" + ind )"
   ]
  },
  {
   "cell_type": "code",
   "execution_count": 22,
   "metadata": {},
   "outputs": [
    {
     "data": {
      "text/html": [
       "<div>\n",
       "<style scoped>\n",
       "    .dataframe tbody tr th:only-of-type {\n",
       "        vertical-align: middle;\n",
       "    }\n",
       "\n",
       "    .dataframe tbody tr th {\n",
       "        vertical-align: top;\n",
       "    }\n",
       "\n",
       "    .dataframe thead th {\n",
       "        text-align: right;\n",
       "    }\n",
       "</style>\n",
       "<table border=\"1\" class=\"dataframe\">\n",
       "  <thead>\n",
       "    <tr style=\"text-align: right;\">\n",
       "      <th></th>\n",
       "      <th>Data</th>\n",
       "      <th>Run</th>\n",
       "      <th>Indices</th>\n",
       "    </tr>\n",
       "  </thead>\n",
       "  <tbody>\n",
       "    <tr>\n",
       "      <th>0</th>\n",
       "      <td>Pollen</td>\n",
       "      <td>0</td>\n",
       "      <td>259+113+81+12+177+77+248+43+30+161+187</td>\n",
       "    </tr>\n",
       "    <tr>\n",
       "      <th>1</th>\n",
       "      <td>Pollen</td>\n",
       "      <td>1</td>\n",
       "      <td>235+138+191+52+50+116+285+94+161+200+121</td>\n",
       "    </tr>\n",
       "    <tr>\n",
       "      <th>2</th>\n",
       "      <td>Pollen</td>\n",
       "      <td>2</td>\n",
       "      <td>139+95+42+226+2+12+192+199+14+213+243</td>\n",
       "    </tr>\n",
       "    <tr>\n",
       "      <th>3</th>\n",
       "      <td>Pollen</td>\n",
       "      <td>3</td>\n",
       "      <td>80+104+185+236+266+1+170+19+111+217+59</td>\n",
       "    </tr>\n",
       "    <tr>\n",
       "      <th>4</th>\n",
       "      <td>Pollen</td>\n",
       "      <td>4</td>\n",
       "      <td>60+101+9+73+179+7+192+49+181+115+32</td>\n",
       "    </tr>\n",
       "    <tr>\n",
       "      <th>5</th>\n",
       "      <td>Pollen</td>\n",
       "      <td>5</td>\n",
       "      <td>72+213+275+195+52+17+189+241+277+125+293</td>\n",
       "    </tr>\n",
       "    <tr>\n",
       "      <th>6</th>\n",
       "      <td>Pollen</td>\n",
       "      <td>6</td>\n",
       "      <td>263+48+94+200+14+72+297+197+65+141+205</td>\n",
       "    </tr>\n",
       "    <tr>\n",
       "      <th>7</th>\n",
       "      <td>Pollen</td>\n",
       "      <td>7</td>\n",
       "      <td>282+216+127+40+201+131+207+298+159+78+233</td>\n",
       "    </tr>\n",
       "    <tr>\n",
       "      <th>8</th>\n",
       "      <td>Pollen</td>\n",
       "      <td>8</td>\n",
       "      <td>270+288+37+69+145+30+181+179+128+251+267</td>\n",
       "    </tr>\n",
       "    <tr>\n",
       "      <th>9</th>\n",
       "      <td>Pollen</td>\n",
       "      <td>9</td>\n",
       "      <td>266+217+139+225+234+11+183+122+297+173+113</td>\n",
       "    </tr>\n",
       "  </tbody>\n",
       "</table>\n",
       "</div>"
      ],
      "text/plain": [
       "     Data  Run                                     Indices\n",
       "0  Pollen    0      259+113+81+12+177+77+248+43+30+161+187\n",
       "1  Pollen    1    235+138+191+52+50+116+285+94+161+200+121\n",
       "2  Pollen    2       139+95+42+226+2+12+192+199+14+213+243\n",
       "3  Pollen    3      80+104+185+236+266+1+170+19+111+217+59\n",
       "4  Pollen    4         60+101+9+73+179+7+192+49+181+115+32\n",
       "5  Pollen    5    72+213+275+195+52+17+189+241+277+125+293\n",
       "6  Pollen    6      263+48+94+200+14+72+297+197+65+141+205\n",
       "7  Pollen    7   282+216+127+40+201+131+207+298+159+78+233\n",
       "8  Pollen    8    270+288+37+69+145+30+181+179+128+251+267\n",
       "9  Pollen    9  266+217+139+225+234+11+183+122+297+173+113"
      ]
     },
     "execution_count": 22,
     "metadata": {},
     "output_type": "execute_result"
    }
   ],
   "source": [
    "# f =  pd.read_csv(\"random_centroid_indices.csv\", header=0)\n",
    "# f.head(10)"
   ]
  }
 ],
 "metadata": {
  "kernelspec": {
   "display_name": "python3.10.6",
   "language": "python",
   "name": "python3"
  },
  "language_info": {
   "codemirror_mode": {
    "name": "ipython",
    "version": 3
   },
   "file_extension": ".py",
   "mimetype": "text/x-python",
   "name": "python",
   "nbconvert_exporter": "python",
   "pygments_lexer": "ipython3",
   "version": "3.10.6"
  }
 },
 "nbformat": 4,
 "nbformat_minor": 2
}
